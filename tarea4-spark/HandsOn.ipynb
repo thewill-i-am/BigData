{
 "cells": [
  {
   "cell_type": "code",
   "execution_count": 1,
   "id": "e3807e38-3528-49f1-a1af-a77adc5a5ae5",
   "metadata": {
    "tags": []
   },
   "outputs": [],
   "source": [
    "from pyspark.sql import SparkSession\n",
    "from pyspark.sql.functions import udf"
   ]
  },
  {
   "cell_type": "code",
   "execution_count": 2,
   "id": "1a7f7b48-0869-4e69-ac17-36803133f434",
   "metadata": {
    "tags": []
   },
   "outputs": [],
   "source": [
    "spark = SparkSession.builder \\\n",
    ".master(\"local[*]\") \\\n",
    ".config(\"spark.submit.deployMode\",\"client\") \\\n",
    ".getOrCreate()"
   ]
  },
  {
   "cell_type": "code",
   "execution_count": 3,
   "id": "234688cc-14eb-4cb5-b180-3e74893f34d8",
   "metadata": {
    "tags": []
   },
   "outputs": [
    {
     "name": "stdout",
     "output_type": "stream",
     "text": [
      "+---+\n",
      "| c1|\n",
      "+---+\n",
      "|  0|\n",
      "|  1|\n",
      "|  2|\n",
      "|  3|\n",
      "|  4|\n",
      "|  5|\n",
      "|  6|\n",
      "|  7|\n",
      "|  8|\n",
      "|  9|\n",
      "+---+\n",
      "\n"
     ]
    }
   ],
   "source": [
    "@udf('int')\n",
    "def tmp(i):\n",
    "    return(i+10)\n",
    "\n",
    "sdf = spark.createDataFrame([(x,) for x in range(0,10)],[\"c1\"])\n",
    "sdf.show()"
   ]
  },
  {
   "cell_type": "code",
   "execution_count": 4,
   "id": "ebf3f0c7-afe9-4bc1-b055-a4cb5ce9e7b7",
   "metadata": {},
   "outputs": [],
   "source": [
    "sdf = sdf.withColumn(\"c2\",tmp(sdf.c1))"
   ]
  },
  {
   "cell_type": "code",
   "execution_count": 5,
   "id": "1c80c6c9-c342-4708-ae18-81dba7e3fcbb",
   "metadata": {
    "tags": []
   },
   "outputs": [
    {
     "name": "stdout",
     "output_type": "stream",
     "text": [
      "+---+---+\n",
      "| c1| c2|\n",
      "+---+---+\n",
      "|  0| 10|\n",
      "|  1| 11|\n",
      "|  2| 12|\n",
      "|  3| 13|\n",
      "|  4| 14|\n",
      "|  5| 15|\n",
      "|  6| 16|\n",
      "|  7| 17|\n",
      "|  8| 18|\n",
      "|  9| 19|\n",
      "+---+---+\n",
      "\n"
     ]
    }
   ],
   "source": [
    "sdf.show()"
   ]
  },
  {
   "cell_type": "code",
   "execution_count": 6,
   "id": "42c718a4-ac7b-4213-b40e-6ac7990da0f0",
   "metadata": {
    "tags": []
   },
   "outputs": [],
   "source": [
    "spark.stop()"
   ]
  }
 ],
 "metadata": {
  "kernelspec": {
   "display_name": "Python 3 (ipykernel)",
   "language": "python",
   "name": "python3"
  },
  "language_info": {
   "codemirror_mode": {
    "name": "ipython",
    "version": 3
   },
   "file_extension": ".py",
   "mimetype": "text/x-python",
   "name": "python",
   "nbconvert_exporter": "python",
   "pygments_lexer": "ipython3",
   "version": "3.10.9"
  }
 },
 "nbformat": 4,
 "nbformat_minor": 5
}
